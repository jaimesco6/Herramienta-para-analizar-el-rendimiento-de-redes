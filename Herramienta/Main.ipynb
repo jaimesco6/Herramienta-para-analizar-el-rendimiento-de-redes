{
 "cells": [
  {
   "cell_type": "code",
   "execution_count": null,
   "id": "4d4ae16c",
   "metadata": {},
   "outputs": [],
   "source": [
    "import pandas as pd"
   ]
  },
  {
   "cell_type": "markdown",
   "id": "bdf8eeca",
   "metadata": {},
   "source": [
    "# Cargar dataframes"
   ]
  },
  {
   "cell_type": "code",
   "execution_count": null,
   "id": "df58c0bf",
   "metadata": {},
   "outputs": [],
   "source": [
    "df_SA_4G = pd.read_csv('dataframes/... .csv')\n",
    "df_NSA = pd.read_csv('dataframes/... .csv')"
   ]
  },
  {
   "cell_type": "markdown",
   "id": "1550886f",
   "metadata": {},
   "source": [
    "# Procesado"
   ]
  },
  {
   "cell_type": "code",
   "execution_count": null,
   "id": "977c836d",
   "metadata": {},
   "outputs": [],
   "source": [
    "from processing import processing_function"
   ]
  },
  {
   "cell_type": "code",
   "execution_count": null,
   "id": "ab85ce6b",
   "metadata": {},
   "outputs": [],
   "source": [
    "df_SA_4G_processed, df_NSA_processed = processing_function(df_SA_4G, df_NSA)"
   ]
  },
  {
   "cell_type": "markdown",
   "id": "2bf9a3b5",
   "metadata": {},
   "source": [
    "1. El dataframe df_SA_4G_processed tiene datos de 5G SA y 4G.\n",
    "\n",
    "2. El dataframe df_NSA_processed tiene datos de 5G NSA"
   ]
  },
  {
   "cell_type": "markdown",
   "id": "22663b49",
   "metadata": {},
   "source": [
    "##### Se obtienen dos dataframes: \n",
    "1.  df_SA_4G_processed: Contiene datos de 5G SA y 4G.\n",
    "2. df_NSA_processed: Contiene datos de 5G NSA."
   ]
  },
  {
   "cell_type": "markdown",
   "id": "b7bc8e05",
   "metadata": {},
   "source": [
    "# Filtrar por tecnología"
   ]
  },
  {
   "cell_type": "code",
   "execution_count": null,
   "id": "4bf83868",
   "metadata": {},
   "outputs": [],
   "source": [
    "from results import *"
   ]
  },
  {
   "cell_type": "code",
   "execution_count": null,
   "id": "d503a702",
   "metadata": {},
   "outputs": [],
   "source": [
    "df_5G_SA, df_5G_NSA, df_4G = process_dataframes_separated(df_SA_4G_processed, df_NSA_processed)"
   ]
  },
  {
   "cell_type": "markdown",
   "id": "0f28ca3f",
   "metadata": {},
   "source": [
    "##### Se obtienen tres dataframes finales: df_5G_SA, df_5G_NSA y df_4G"
   ]
  },
  {
   "cell_type": "markdown",
   "id": "489aa6d5",
   "metadata": {},
   "source": [
    "# Resultados"
   ]
  },
  {
   "cell_type": "markdown",
   "id": "525232d5",
   "metadata": {},
   "source": [
    "### Ubicar en el mapa las medidas seleccionando el día"
   ]
  },
  {
   "cell_type": "code",
   "execution_count": null,
   "id": "e46c99fb",
   "metadata": {
    "scrolled": false
   },
   "outputs": [],
   "source": [
    "create_map_from_dataframe(df_4G, mes, día)"
   ]
  },
  {
   "cell_type": "markdown",
   "id": "084a0265",
   "metadata": {},
   "source": [
    "### Representación gráfica de las medidas mediante ventana deslizante"
   ]
  },
  {
   "cell_type": "markdown",
   "id": "8ef9ccf9",
   "metadata": {},
   "source": [
    "#### Parámetros:\n",
    "1. Dataframe, según el tipo de medidas\n",
    "2. Sampling time\n",
    "3. Tamaño de la ventana\n",
    "4. Modo:\n",
    "\n",
    "    4.1. Completo (viene de serie): muestra todas las medidas del dataframe seleccionado. **Aviso:** dependiendo del número de medidas puede tardar en mostrar las gráficas.\n",
    "    \n",
    "    4.2. Parcial: muestra diez gráficas de manera aleatoria."
   ]
  },
  {
   "cell_type": "code",
   "execution_count": null,
   "id": "9016c6f9",
   "metadata": {
    "scrolled": true
   },
   "outputs": [],
   "source": [
    "generate_plots(df_5G_SA, tiempo de muestreo, tamaño de ventana, mode= ...)"
   ]
  },
  {
   "cell_type": "markdown",
   "id": "db94ac86",
   "metadata": {},
   "source": [
    "### Agrupación por geohashes"
   ]
  },
  {
   "cell_type": "code",
   "execution_count": null,
   "id": "867b65f6",
   "metadata": {},
   "outputs": [],
   "source": [
    "df_SA_geohash = add_geohash_column(df_5G_SA, precision= ...)"
   ]
  },
  {
   "cell_type": "code",
   "execution_count": null,
   "id": "946d7b35",
   "metadata": {},
   "outputs": [],
   "source": [
    "df_NSA_geohash = add_geohash_column(df_5G_NSA, precision= ...)"
   ]
  },
  {
   "cell_type": "code",
   "execution_count": null,
   "id": "e4f22c28",
   "metadata": {},
   "outputs": [],
   "source": [
    "df_4G_geohash = add_geohash_column(df_4G, precision= ...)"
   ]
  },
  {
   "cell_type": "markdown",
   "id": "8bb474ac",
   "metadata": {},
   "source": [
    "### Violinplots por cada geohash"
   ]
  },
  {
   "cell_type": "markdown",
   "id": "0d6c9ad1",
   "metadata": {},
   "source": [
    "#### Medias"
   ]
  },
  {
   "cell_type": "code",
   "execution_count": null,
   "id": "881bf697",
   "metadata": {
    "scrolled": false
   },
   "outputs": [],
   "source": [
    "setup_interactive_geohash_selection(df_SA_geohash, df_NSA_geohash, df_4G_geohash, tiempo de muestreo, tamaño de ventana)"
   ]
  },
  {
   "cell_type": "markdown",
   "id": "0fd7d5ab",
   "metadata": {},
   "source": [
    "### Distribuciones del throughput medio por tecnología"
   ]
  },
  {
   "cell_type": "code",
   "execution_count": null,
   "id": "65fd9f57",
   "metadata": {},
   "outputs": [],
   "source": [
    "bins_array = np.linspace(... , ... , ...) \n",
    "\n",
    "plot_distribucion_medias(df_5G_SA, df_5G_NSA, bins_array, df_4G, normalize= ...)\n",
    " \n",
    "plot_distribucion_medias(df_5G_SA, df_5G_NSA, bins_array, normalize= ...)"
   ]
  },
  {
   "cell_type": "markdown",
   "id": "90bd8d37",
   "metadata": {},
   "source": [
    "### Boxplots generales"
   ]
  },
  {
   "cell_type": "code",
   "execution_count": null,
   "id": "4eb07c3c",
   "metadata": {},
   "outputs": [],
   "source": [
    "medias_5G_SA = df_5G_SA['mean']\n",
    "medias_5G_NSA = df_5G_NSA['mean']\n",
    "medias_4G = df_4G['mean']\n",
    "\n",
    "plot_boxplot_medias(medias_5G_SA, medias_5G_NSA, medias_4G)"
   ]
  },
  {
   "cell_type": "markdown",
   "id": "3bdd389f",
   "metadata": {},
   "source": [
    "### ANOVA"
   ]
  },
  {
   "cell_type": "code",
   "execution_count": null,
   "id": "07ac195f",
   "metadata": {},
   "outputs": [],
   "source": [
    "anova_table = anova(df_4G, df_5G_SA, df_5G_NSA)\n",
    "anova_table"
   ]
  },
  {
   "cell_type": "code",
   "execution_count": null,
   "id": "689857f2",
   "metadata": {},
   "outputs": [],
   "source": [
    "tukey_hsd(df_4G, df_5G_SA, df_5G_NSA)"
   ]
  },
  {
   "cell_type": "markdown",
   "id": "34634072",
   "metadata": {},
   "source": [
    "### Boxplots por banda de frecuencia"
   ]
  },
  {
   "cell_type": "code",
   "execution_count": null,
   "id": "39d7522f",
   "metadata": {},
   "outputs": [],
   "source": [
    "plot_boxplots_por_banda(df_5G_SA, df_5G_NSA, df_4G)"
   ]
  },
  {
   "cell_type": "markdown",
   "id": "aa8d93fa",
   "metadata": {},
   "source": [
    "### Bandas de frecuencia por tecnología"
   ]
  },
  {
   "cell_type": "code",
   "execution_count": null,
   "id": "4c80be71",
   "metadata": {},
   "outputs": [],
   "source": [
    "plot_separate_frequency_bands(df_4G, df_5G_SA, df_5G_NSA)"
   ]
  },
  {
   "cell_type": "markdown",
   "id": "84c2b9d6",
   "metadata": {},
   "source": [
    "### Análisis de latencia"
   ]
  },
  {
   "cell_type": "code",
   "execution_count": null,
   "id": "64c02f84",
   "metadata": {},
   "outputs": [],
   "source": [
    "media_avg = latency_avg(df_5G_SA)\n",
    "print(f\"La media de los valores avg es: {media_avg}\")"
   ]
  },
  {
   "cell_type": "markdown",
   "id": "4220b15c",
   "metadata": {},
   "source": [
    "### Análisis de RSRP"
   ]
  },
  {
   "cell_type": "code",
   "execution_count": null,
   "id": "7cdbe965",
   "metadata": {},
   "outputs": [],
   "source": [
    "analize_rsrp(df_4G)"
   ]
  },
  {
   "cell_type": "markdown",
   "id": "5cb80366",
   "metadata": {},
   "source": [
    "### Análisis de RSRQ"
   ]
  },
  {
   "cell_type": "code",
   "execution_count": null,
   "id": "e41ecd65",
   "metadata": {},
   "outputs": [],
   "source": [
    "analize_rsrq(df_5G_SA)"
   ]
  }
 ],
 "metadata": {
  "kernelspec": {
   "display_name": "Python 3 (ipykernel)",
   "language": "python",
   "name": "python3"
  },
  "language_info": {
   "codemirror_mode": {
    "name": "ipython",
    "version": 3
   },
   "file_extension": ".py",
   "mimetype": "text/x-python",
   "name": "python",
   "nbconvert_exporter": "python",
   "pygments_lexer": "ipython3",
   "version": "3.9.13"
  }
 },
 "nbformat": 4,
 "nbformat_minor": 5
}
